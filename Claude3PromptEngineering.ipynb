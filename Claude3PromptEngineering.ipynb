{
 "cells": [
  {
   "cell_type": "markdown",
   "metadata": {},
   "source": [
    "# Claude 3 Opus\n",
    "\n",
    "## Tokenizer\n"
   ]
  },
  {
   "cell_type": "code",
   "execution_count": 1,
   "metadata": {},
   "outputs": [
    {
     "name": "stdout",
     "output_type": "stream",
     "text": [
      "Generated completion:\n",
      "[ContentBlock(text='The phrase \"Mary had a little\" is the beginning of a well-known English language nursery rhyme. The complete first line of the rhyme is:\\n\\n\"Mary had a little lamb\"\\n\\nThe full rhyme goes as follows:\\n\\nMary had a little lamb,\\nIts fleece was white as snow;\\nAnd everywhere that Mary went,\\nThe lamb was sure to go.\\n\\nIt followed her to school one day,\\nWhich was against the rule;\\nIt made', type='text')]\n"
     ]
    }
   ],
   "source": [
    "import os\n",
    "import anthropic\n",
    "\n",
    "# Get the API key from the environment\n",
    "api_key = os.getenv(\"ANTHROPIC_API_KEY\")\n",
    "\n",
    "# Initialize the Anthropic client\n",
    "client = anthropic.Client(api_key=api_key) \n",
    "\n",
    "\n",
    "# Get the input text from the user\n",
    "text = \"Mary had a little\"\n",
    "\n",
    "# Generate completions using Claude-3\n",
    "response = client.messages.create(\n",
    "    max_tokens=100,\n",
    "    model=\"claude-3-opus-20240229\",\n",
    "    messages=[\n",
    "        {\"role\": \"user\", \"content\": f\"{text}\"},\n",
    "    ],\n",
    ")\n",
    "\n",
    "# Get the generated completion from the response content\n",
    "completion = response.content  # Access the content attribute directly\n",
    "\n",
    "# Print the completion\n",
    "print(\"Generated completion:\")\n",
    "print(completion)\n"
   ]
  },
  {
   "cell_type": "markdown",
   "metadata": {},
   "source": [
    "## Prefill"
   ]
  },
  {
   "cell_type": "code",
   "execution_count": 2,
   "metadata": {},
   "outputs": [
    {
     "name": "stdout",
     "output_type": "stream",
     "text": [
      "{\n",
      "  \"name\": \"SmartHome Mini\",\n",
      "  \"size\": \"5 inches wide\",\n",
      "  \"price\": \"$49.99\",\n",
      "  \"color\": [\n",
      "    \"black\",\n",
      "    \"white\"\n",
      "  ]\n",
      "}\n"
     ]
    }
   ],
   "source": [
    "import anthropic\n",
    "\n",
    "client = anthropic.Anthropic(\n",
    ")\n",
    "message = client.messages.create(\n",
    "    model=\"claude-3-opus-20240229\",\n",
    "    max_tokens=1000,\n",
    "    temperature=0,\n",
    "    messages=[\n",
    "        {\n",
    "            \"role\": \"user\",\n",
    "            \"content\": \"Please extract the name, size, price, and color from this product description and output it within a JSON object.\\n\\n<description>The SmartHome Mini is a compact smart home assistant available in black or white for only $49.99. At just 5 inches wide, it lets you control lights, thermostats, and other connected devices via voice or app—no matter where you place it in your home. This affordable little hub brings convenient hands-free control to your smart devices.\\n</description>\",\n",
    "        },\n",
    "        {\n",
    "            \"role\": \"assistant\",\n",
    "            \"content\": \"{\",\n",
    "        }\n",
    "    ]\n",
    ")\n",
    "\n",
    "# get the raw response\n",
    "raw_response = message.content[0].text\n",
    "\n",
    "# Add the leading curly brace\n",
    "fixed_response = \"{\" + raw_response \n",
    "\n",
    "# print the final response \n",
    "print(fixed_response) "
   ]
  }
 ],
 "metadata": {
  "kernelspec": {
   "display_name": "NormalProgramming",
   "language": "python",
   "name": "python3"
  },
  "language_info": {
   "codemirror_mode": {
    "name": "ipython",
    "version": 3
   },
   "file_extension": ".py",
   "mimetype": "text/x-python",
   "name": "python",
   "nbconvert_exporter": "python",
   "pygments_lexer": "ipython3",
   "version": "3.11.4"
  }
 },
 "nbformat": 4,
 "nbformat_minor": 2
}
