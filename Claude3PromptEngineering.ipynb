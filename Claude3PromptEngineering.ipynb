{
 "cells": [
  {
   "cell_type": "markdown",
   "metadata": {},
   "source": [
    "# Claude 3 Opus\n"
   ]
  },
  {
   "cell_type": "markdown",
   "metadata": {},
   "source": [
    "## Give Claude a Role\n",
    "[https://docs.anthropic.com/claude/docs/give-claude-a-role](https://docs.anthropic.com/claude/docs/give-claude-a-role)"
   ]
  },
  {
   "cell_type": "code",
   "execution_count": 19,
   "metadata": {},
   "outputs": [
    {
     "name": "stdout",
     "output_type": "stream",
     "text": [
      "Blue light from the sun is scattered more by the atmosphere than other colors due to its shorter wavelength. This scattering, called Rayleigh scattering, spreads blue light across the sky. At sunset and sunrise, the light travels through more atmosphere, scattering blue light away, making the sky appear red.\n"
     ]
    }
   ],
   "source": [
    "import anthropic\n",
    "\n",
    "client = anthropic.Anthropic()\n",
    "message = client.messages.create(\n",
    "    model=\"claude-3-opus-20240229\",\n",
    "    max_tokens=2000,\n",
    "    temperature=1,\n",
    "    system=\"You are a kindergarten teacher.\",\n",
    "    #system=\"You are a graduate physics professor.\",\n",
    "    messages=[\n",
    "        {\n",
    "            \"role\": \"user\",\n",
    "            \"content\": [\n",
    "                {\n",
    "                    \"type\": \"text\",\n",
    "                    \"text\": \"Explain why the sky is blue in 50 words or less.\"\n",
    "                }\n",
    "            ]\n",
    "        }\n",
    "    ]\n",
    ")\n",
    "# get the raw response\n",
    "raw_response = message.content[0].text\n",
    "\n",
    "# print the raw response\n",
    "print(raw_response)"
   ]
  },
  {
   "cell_type": "markdown",
   "metadata": {},
   "source": [
    "## Be Clear and Direct\n",
    "[https://docs.anthropic.com/claude/docs/be-clear-direct](https://docs.anthropic.com/claude/docs/be-clear-direct)"
   ]
  },
  {
   "cell_type": "code",
   "execution_count": null,
   "metadata": {},
   "outputs": [],
   "source": [
    "import anthropic\n",
    "\n",
    "client = anthropic.Anthropic()\n",
    "\n",
    "customers = \"\"\" \n",
    "        John Smith\n",
    "        Phone Number: (555) 123-4567\n",
    "        Home Address: 123 Main St, Anytown, USA 12345\n",
    "        Email Address: john.smith@email.com\n",
    "\n",
    "        Emily Johnson\n",
    "        Phone Number: (555) 987-6543\n",
    "        Home Address: 456 Oak Ave, Somecity, USA 54321\n",
    "        Email Address: emily.johnson@email.com\n",
    "\n",
    "        Michael Lee\n",
    "        Phone Number: (555) 555-1234\n",
    "        Home Address: 789 Elm St, Anothercity, USA 67890\n",
    "        Email Address: michael.lee@email.com\n",
    "\n",
    "        Sarah Davis\n",
    "        Phone Number: (555) 246-8135\n",
    "        Home Address: 321 Pine Rd, Somewhere, USA 13579\n",
    "        Email Address: sarah.davis@email.com\n",
    "\n",
    "        David Brown\n",
    "        Phone Number: (555) 135-7924\n",
    "        Home Address: 654 Maple Ln, Nowhere, USA 97531\n",
    "        Email Address: david.brown@email.com\n",
    "\n",
    "        Jessica Wilson\n",
    "        Phone Number: (555) 864-2097\n",
    "        Home Address: 987 Cedar Blvd, Anystate, USA 24680\n",
    "        Email Address: jessica.wilson@email.com\n",
    "\n",
    "        Christopher Taylor\n",
    "        Phone Number: (555) 753-9514\n",
    "        Home Address: 159 Birch Ct, Somestate, USA 80246\n",
    "        Email Address: christopher.taylor@email.com\n",
    "\n",
    "        Amanda Anderson\n",
    "        Phone Number: (555) 951-7530\n",
    "        Home Address: 753 Walnut St, Anyregion, USA 36920\n",
    "        Email Address: amanda.anderson@email.com\n",
    "\n",
    "        Matthew Martinez\n",
    "        Phone Number: (555) 147-2580\n",
    "        Home Address: 951 Spruce Ave, Somewhere, USA 58024\n",
    "        Email Address: matthew.martinez@email.com\n",
    "\n",
    "        Olivia Thompson\n",
    "        Phone Number: (555) 369-2580\n",
    "        Home Address: 357 Oak Ln, Anydistrict, USA 14702\n",
    "        Email Address: olivia.thompson@email.com\n",
    "        \"\"\"\n",
    "\n",
    "message = client.messages.create(\n",
    "    model=\"claude-3-opus-20240229\",\n",
    "    max_tokens=2000,\n",
    "    temperature=1,\n",
    "    system=\"Please remove all personally identifiable information from the given text.\",\n",
    "    # system=\"Please replace parts of phone numbers and home addresses with X's so we can hide some of the information.\",\n",
    "    messages=[\n",
    "        {\n",
    "            \"role\": \"user\",\n",
    "            \"content\": [\n",
    "                {\n",
    "                    \"type\": \"text\",\n",
    "                    \"text\": customers,\n",
    "                }\n",
    "            ]\n",
    "        }\n",
    "    ]\n",
    ")\n",
    "\n",
    "# get the raw response\n",
    "raw_response = message.content[0].text\n",
    "\n",
    "# print the raw response\n",
    "print(raw_response)"
   ]
  },
  {
   "cell_type": "markdown",
   "metadata": {},
   "source": [
    "## Use XML Tags\n",
    "[https://docs.anthropic.com/claude/docs/use-xml-tags](https://docs.anthropic.com/claude/docs/use-xml-tags)"
   ]
  },
  {
   "cell_type": "code",
   "execution_count": null,
   "metadata": {},
   "outputs": [],
   "source": [
    "import anthropic\n",
    "\n",
    "client = anthropic.Anthropic()\n",
    "\n",
    "system_instructions = \"\"\" \n",
    "        Please extract the key details from the following email and return them in XML tags:\n",
    "        - Root tag should be <email></email>\n",
    "        - Sender name in <sender></sender> tags\n",
    "        - Main topic in <topic></topic> tags\n",
    "        - Any deadlines or dates mentioned in <deadline></deadline> tags\n",
    "        \"\"\"\n",
    "\n",
    "email = \"\"\"\n",
    "        From: John Smith\n",
    "        To: Jane Doe\n",
    "        Subject: Project X Update\n",
    "\n",
    "        Hi Jane,\n",
    "\n",
    "        I wanted to give you a quick update on Project X. We've made good progress this week and are on track to meet the initial milestones. However, we may need some additional resources to complete the final phase by the August 15th deadline.\n",
    "\n",
    "        Can we schedule a meeting next week to discuss the budget and timeline in more detail?\n",
    "\n",
    "        Thanks,\n",
    "        John\n",
    "        \"\"\"\n",
    "\n",
    "message = client.messages.create(\n",
    "    model=\"claude-3-opus-20240229\",\n",
    "    max_tokens=2000,\n",
    "    temperature=1,\n",
    "    system=system_instructions,\n",
    "    # system=\"Please replace parts of phone numbers and home addresses with X's so we can hide some of the information.\",\n",
    "    messages=[\n",
    "        {\n",
    "            \"role\": \"user\",\n",
    "            \"content\": [\n",
    "                {\n",
    "                    \"type\": \"text\",\n",
    "                    \"text\": email,\n",
    "                }\n",
    "            ]\n",
    "        }\n",
    "    ]\n",
    ")\n",
    "\n",
    "# get the raw response\n",
    "raw_response = message.content[0].text\n",
    "\n",
    "# print the raw response\n",
    "print(raw_response)"
   ]
  },
  {
   "cell_type": "markdown",
   "metadata": {},
   "source": [
    "## Prefill"
   ]
  },
  {
   "cell_type": "code",
   "execution_count": 2,
   "metadata": {},
   "outputs": [
    {
     "name": "stdout",
     "output_type": "stream",
     "text": [
      "{\n",
      "  \"name\": \"SmartHome Mini\",\n",
      "  \"size\": \"5 inches wide\",\n",
      "  \"price\": \"$49.99\",\n",
      "  \"color\": [\n",
      "    \"black\",\n",
      "    \"white\"\n",
      "  ]\n",
      "}\n"
     ]
    }
   ],
   "source": [
    "import anthropic\n",
    "\n",
    "client = anthropic.Anthropic(\n",
    ")\n",
    "message = client.messages.create(\n",
    "    model=\"claude-3-opus-20240229\",\n",
    "    max_tokens=1000,\n",
    "    temperature=0,\n",
    "    messages=[\n",
    "        {\n",
    "            \"role\": \"user\",\n",
    "            \"content\": \"Please extract the name, size, price, and color from this product description and output it within a JSON object.\\n\\n<description>The SmartHome Mini is a compact smart home assistant available in black or white for only $49.99. At just 5 inches wide, it lets you control lights, thermostats, and other connected devices via voice or app—no matter where you place it in your home. This affordable little hub brings convenient hands-free control to your smart devices.\\n</description>\",\n",
    "        },\n",
    "        {\n",
    "            \"role\": \"assistant\",\n",
    "            \"content\": \"{\",\n",
    "        }\n",
    "    ]\n",
    ")\n",
    "\n",
    "# get the raw response\n",
    "raw_response = message.content[0].text\n",
    "\n",
    "# Add the leading curly brace\n",
    "fixed_response = \"{\" + raw_response \n",
    "\n",
    "# print the final response \n",
    "print(fixed_response) "
   ]
  }
 ],
 "metadata": {
  "kernelspec": {
   "display_name": "NormalProgramming",
   "language": "python",
   "name": "python3"
  },
  "language_info": {
   "codemirror_mode": {
    "name": "ipython",
    "version": 3
   },
   "file_extension": ".py",
   "mimetype": "text/x-python",
   "name": "python",
   "nbconvert_exporter": "python",
   "pygments_lexer": "ipython3",
   "version": "3.11.4"
  }
 },
 "nbformat": 4,
 "nbformat_minor": 2
}
